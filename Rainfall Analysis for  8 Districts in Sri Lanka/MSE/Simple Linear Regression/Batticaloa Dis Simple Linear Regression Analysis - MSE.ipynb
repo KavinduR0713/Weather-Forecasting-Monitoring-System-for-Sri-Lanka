{
 "cells": [
  {
   "cell_type": "code",
   "execution_count": 1,
   "id": "c2823a11",
   "metadata": {},
   "outputs": [
    {
     "name": "stdout",
     "output_type": "stream",
     "text": [
      "Mean Squared Error (MSE) for Random Forest Regressor: 13467.055890459447\n"
     ]
    }
   ],
   "source": [
    "import numpy as np\n",
    "from sklearn.metrics import mean_squared_error\n",
    "\n",
    "# Actual values (replace with your actual data)\n",
    "y_actual = np.array([484,\n",
    "62,\n",
    "67,\n",
    "93,\n",
    "54,\n",
    "44,\n",
    "44,\n",
    "113,\n",
    "77,\n",
    "160,\n",
    "289,\n",
    "216,\n",
    "270,\n",
    "179,\n",
    "65,\n",
    "189,\n",
    "35,\n",
    "34,\n",
    "121,\n",
    "102,\n",
    "57,\n",
    "231,\n",
    "233,\n",
    "322,\n",
    "137,\n",
    "266,\n",
    "102,\n",
    "94,\n",
    "131,\n",
    "31,\n",
    "22,\n",
    "66\n",
    "])\n",
    "\n",
    "# Predicted values from Random Forest Regressor (replace with your actual predicted values)\n",
    "y_predicted_rf = np.array([82.45340178,\n",
    "81.81077837,\n",
    "81.44430066,\n",
    "81.46536249,\n",
    "81.94477494,\n",
    "82.89139699,\n",
    "84.23664716,\n",
    "85.8313496,\n",
    "87.46283005,\n",
    "88.89564945,\n",
    "89.92828016,\n",
    "90.44644674,\n",
    "83.74007788,\n",
    "83.32216661,\n",
    "83.10434974,\n",
    "83.1541265,\n",
    "83.50682154,\n",
    "84.15552606,\n",
    "85.04607803,\n",
    "86.0787667,\n",
    "87.12005411,\n",
    "88.02641737,\n",
    "88.67690462,\n",
    "89.00406808,\n",
    "84.96161911,\n",
    "84.73013554,\n",
    "84.61912026,\n",
    "84.66389746,\n",
    "84.87919983,\n",
    "85.25534311,\n",
    "85.75778645,\n",
    "86.32982634\n",
    "])\n",
    "\n",
    "# Calculate Mean Squared Error (MSE)\n",
    "mse_rf = mean_squared_error(y_actual, y_predicted_rf)\n",
    "\n",
    "# Print the result\n",
    "print(\"Mean Squared Error (MSE) for Random Forest Regressor:\", mse_rf)"
   ]
  },
  {
   "cell_type": "code",
   "execution_count": null,
   "id": "f47cbe40",
   "metadata": {},
   "outputs": [],
   "source": []
  }
 ],
 "metadata": {
  "kernelspec": {
   "display_name": "Python 3 (ipykernel)",
   "language": "python",
   "name": "python3"
  },
  "language_info": {
   "codemirror_mode": {
    "name": "ipython",
    "version": 3
   },
   "file_extension": ".py",
   "mimetype": "text/x-python",
   "name": "python",
   "nbconvert_exporter": "python",
   "pygments_lexer": "ipython3",
   "version": "3.11.5"
  }
 },
 "nbformat": 4,
 "nbformat_minor": 5
}
