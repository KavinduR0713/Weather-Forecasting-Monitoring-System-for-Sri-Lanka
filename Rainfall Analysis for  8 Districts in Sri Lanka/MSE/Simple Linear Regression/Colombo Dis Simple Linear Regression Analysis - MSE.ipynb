{
 "cells": [
  {
   "cell_type": "code",
   "execution_count": 1,
   "id": "0def20a5",
   "metadata": {},
   "outputs": [
    {
     "name": "stdout",
     "output_type": "stream",
     "text": [
      "MSE for Regression Analysis : 11876.512741733\n"
     ]
    }
   ],
   "source": [
    "from sklearn.metrics import mean_squared_error\n",
    "import numpy as np\n",
    "\n",
    "actual_values = np.array([148,35,161,209,246,127,142,120,139,240,417,76,50,70,48,421,249,91,0,51,84,364,224,294,71,52,93,134,\n",
    "                          281,29,42,46])\n",
    "\n",
    "predicted_values = np.array([52.12487358,69.64052388,87.15617418,104.6718245,122.1874748,139.7031251,157.2187754,174.7344257,\n",
    "192.250076,209.7657263,227.2813766,244.7970269,48.70189198,66.21754228,83.73319258,101.2488429,118.7644932,136.2801435,\n",
    "153.7957938,171.3114441,188.8270944,206.3427447,223.858395,241.3740453,45.27891037,62.79456067,80.31021097,97.82586127,\n",
    "115.3415116,132.8571619,150.3728122,167.8884625])\n",
    "\n",
    "mse_regression = mean_squared_error(actual_values, predicted_values)\n",
    "print(\"MSE for Regression Analysis :\", mse_regression)"
   ]
  },
  {
   "cell_type": "code",
   "execution_count": null,
   "id": "da468288",
   "metadata": {},
   "outputs": [],
   "source": []
  }
 ],
 "metadata": {
  "kernelspec": {
   "display_name": "Python 3 (ipykernel)",
   "language": "python",
   "name": "python3"
  },
  "language_info": {
   "codemirror_mode": {
    "name": "ipython",
    "version": 3
   },
   "file_extension": ".py",
   "mimetype": "text/x-python",
   "name": "python",
   "nbconvert_exporter": "python",
   "pygments_lexer": "ipython3",
   "version": "3.11.5"
  }
 },
 "nbformat": 4,
 "nbformat_minor": 5
}
