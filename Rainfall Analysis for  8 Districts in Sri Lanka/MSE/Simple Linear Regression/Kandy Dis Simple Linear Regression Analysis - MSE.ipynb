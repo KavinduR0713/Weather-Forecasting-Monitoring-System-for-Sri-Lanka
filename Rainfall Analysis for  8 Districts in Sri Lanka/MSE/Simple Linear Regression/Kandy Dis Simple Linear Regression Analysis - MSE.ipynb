{
 "cells": [
  {
   "cell_type": "code",
   "execution_count": 1,
   "id": "502cd62c",
   "metadata": {},
   "outputs": [
    {
     "name": "stdout",
     "output_type": "stream",
     "text": [
      "MSE for Regression Analysis or Time Series Analysis: 11329.067541486726\n"
     ]
    }
   ],
   "source": [
    "from sklearn.metrics import mean_squared_error\n",
    "import numpy as np\n",
    "\n",
    "# Example data (replace this with your actual data)\n",
    "actual_values = np.array([148,\n",
    "35,\n",
    "161,\n",
    "209,\n",
    "246,\n",
    "127,\n",
    "142,\n",
    "120,\n",
    "139,\n",
    "240,\n",
    "417,\n",
    "76,\n",
    "50,\n",
    "70,\n",
    "48,\n",
    "421,\n",
    "249,\n",
    "91,\n",
    "0,\n",
    "51,\n",
    "84,\n",
    "364,\n",
    "224,\n",
    "294,\n",
    "71,\n",
    "52,\n",
    "93,\n",
    "134,\n",
    "281,\n",
    "29,\n",
    "42,\n",
    "46])\n",
    "predicted_values = np.array([80.31919494,\n",
    "94.67506878,\n",
    "109.0309426,\n",
    "123.3868165,\n",
    "137.7426903,\n",
    "152.0985642,\n",
    "166.454438,\n",
    "180.8103118,\n",
    "195.1661857,\n",
    "209.5220595,\n",
    "223.8779334,\n",
    "238.2338072,\n",
    "73.76302358,\n",
    "88.11889743,\n",
    "102.4747713,\n",
    "116.8306451,\n",
    "131.186519,\n",
    "145.5423928,\n",
    "159.8982666,\n",
    "174.2541405,\n",
    "188.6100143,\n",
    "202.9658882,\n",
    "217.321762,\n",
    "231.6776359,\n",
    "67.20685223,\n",
    "81.56272607,\n",
    "95.91859992,\n",
    "110.2744738,\n",
    "124.6303476,\n",
    "138.9862214,\n",
    "153.3420953,\n",
    "167.6979691\n",
    "])\n",
    "\n",
    "# Calculate MSE for Time Series Analysis or Regression Analysis\n",
    "mse_regression = mean_squared_error(actual_values, predicted_values)\n",
    "print(\"MSE for Regression Analysis or Time Series Analysis:\", mse_regression)"
   ]
  }
 ],
 "metadata": {
  "kernelspec": {
   "display_name": "Python 3 (ipykernel)",
   "language": "python",
   "name": "python3"
  },
  "language_info": {
   "codemirror_mode": {
    "name": "ipython",
    "version": 3
   },
   "file_extension": ".py",
   "mimetype": "text/x-python",
   "name": "python",
   "nbconvert_exporter": "python",
   "pygments_lexer": "ipython3",
   "version": "3.11.5"
  }
 },
 "nbformat": 4,
 "nbformat_minor": 5
}
