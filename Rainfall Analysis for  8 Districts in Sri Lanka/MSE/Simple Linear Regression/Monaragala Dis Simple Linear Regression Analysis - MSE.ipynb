{
 "cells": [
  {
   "cell_type": "code",
   "execution_count": 1,
   "id": "9bd3649c",
   "metadata": {},
   "outputs": [
    {
     "name": "stdout",
     "output_type": "stream",
     "text": [
      "MSE for Regression Analysis : 10940.992336894702\n"
     ]
    }
   ],
   "source": [
    "from sklearn.metrics import mean_squared_error\n",
    "import numpy as np\n",
    "\n",
    "# Example data (replace this with your actual data)\n",
    "actual_values = np.array([260,\n",
    "106,\n",
    "191,\n",
    "274,\n",
    "243,\n",
    "76,\n",
    "124,\n",
    "107,\n",
    "145,\n",
    "368,\n",
    "299,\n",
    "237,\n",
    "141,\n",
    "105,\n",
    "147,\n",
    "409,\n",
    "145,\n",
    "45,\n",
    "195,\n",
    "144,\n",
    "65,\n",
    "301,\n",
    "391,\n",
    "252,\n",
    "138,\n",
    "168,\n",
    "170,\n",
    "227,\n",
    "242,\n",
    "53,\n",
    "32,\n",
    "46])\n",
    "predicted_values = np.array([83.56383534,\n",
    "97.61292289,\n",
    "111.6620104,\n",
    "125.711098,\n",
    "139.7601856,\n",
    "153.8092731,\n",
    "167.8583607,\n",
    "181.9074482,\n",
    "195.9565358,\n",
    "210.0056233,\n",
    "224.0547109,\n",
    "238.1037984,\n",
    "81.79274091,\n",
    "95.84182846,\n",
    "109.890916,\n",
    "123.9400036,\n",
    "137.9890911,\n",
    "152.0381787,\n",
    "166.0872662,\n",
    "180.1363538,\n",
    "194.1854414,\n",
    "208.2345289,\n",
    "222.2836165,\n",
    "236.332704,\n",
    "80.02164648,\n",
    "94.07073404,\n",
    "108.1198216,\n",
    "122.1689091,\n",
    "136.2179967,\n",
    "150.2670843,\n",
    "164.3161718,\n",
    "178.3652594\n",
    "])\n",
    "\n",
    "# Calculate MSE for Time Series Analysis or Regression Analysis\n",
    "mse_regression = mean_squared_error(actual_values, predicted_values)\n",
    "print(\"MSE for Regression Analysis :\", mse_regression)"
   ]
  }
 ],
 "metadata": {
  "kernelspec": {
   "display_name": "Python 3 (ipykernel)",
   "language": "python",
   "name": "python3"
  },
  "language_info": {
   "codemirror_mode": {
    "name": "ipython",
    "version": 3
   },
   "file_extension": ".py",
   "mimetype": "text/x-python",
   "name": "python",
   "nbconvert_exporter": "python",
   "pygments_lexer": "ipython3",
   "version": "3.11.5"
  }
 },
 "nbformat": 4,
 "nbformat_minor": 5
}
