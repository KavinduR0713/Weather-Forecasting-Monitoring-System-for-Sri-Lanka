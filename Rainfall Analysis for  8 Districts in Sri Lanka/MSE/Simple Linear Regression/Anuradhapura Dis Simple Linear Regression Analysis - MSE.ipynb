{
 "cells": [
  {
   "cell_type": "code",
   "execution_count": 1,
   "id": "69222e62",
   "metadata": {},
   "outputs": [
    {
     "name": "stdout",
     "output_type": "stream",
     "text": [
      "MSE for Regression Analysis : 10474.288796777157\n"
     ]
    }
   ],
   "source": [
    "from sklearn.metrics import mean_squared_error\n",
    "import numpy as np\n",
    "\n",
    "# Example data (replace this with your actual data)\n",
    "actual_values = np.array([190,\n",
    "29,\n",
    "48,\n",
    "104,\n",
    "158,\n",
    "35,\n",
    "31,\n",
    "41,\n",
    "77,\n",
    "336,\n",
    "501,\n",
    "88,\n",
    "67,\n",
    "57,\n",
    "31,\n",
    "243,\n",
    "37,\n",
    "16,\n",
    "81,\n",
    "69,\n",
    "30,\n",
    "186,\n",
    "166,\n",
    "246,\n",
    "105,\n",
    "94,\n",
    "55,\n",
    "138,\n",
    "123,\n",
    "4,\n",
    "1,\n",
    "20])\n",
    "\n",
    "predicted_values = np.array([16.57665394,\n",
    "29.54566081,\n",
    "42.51466767,\n",
    "55.48367454,\n",
    "68.45268141,\n",
    "81.42168827,\n",
    "94.39069514,\n",
    "107.359702,\n",
    "120.3287089,\n",
    "133.2977157,\n",
    "146.2667226,\n",
    "159.2357295,\n",
    "14.03485089,\n",
    "27.00385776,\n",
    "39.97286463,\n",
    "52.94187149,\n",
    "65.91087836,\n",
    "78.87988522,\n",
    "91.84889209,\n",
    "104.817899,\n",
    "117.7869058,\n",
    "130.7559127,\n",
    "143.7249196,\n",
    "156.6939264,\n",
    "11.49304785,\n",
    "24.46205471,\n",
    "37.43106158,\n",
    "50.40006844,\n",
    "63.36907531,\n",
    "76.33808218,\n",
    "89.30708904,\n",
    "102.2760959\n",
    "])\n",
    "\n",
    "# Calculate MSE for Time Series Analysis or Regression Analysis\n",
    "mse_regression = mean_squared_error(actual_values, predicted_values)\n",
    "print(\"MSE for Regression Analysis :\", mse_regression)"
   ]
  }
 ],
 "metadata": {
  "kernelspec": {
   "display_name": "Python 3 (ipykernel)",
   "language": "python",
   "name": "python3"
  },
  "language_info": {
   "codemirror_mode": {
    "name": "ipython",
    "version": 3
   },
   "file_extension": ".py",
   "mimetype": "text/x-python",
   "name": "python",
   "nbconvert_exporter": "python",
   "pygments_lexer": "ipython3",
   "version": "3.11.5"
  }
 },
 "nbformat": 4,
 "nbformat_minor": 5
}
