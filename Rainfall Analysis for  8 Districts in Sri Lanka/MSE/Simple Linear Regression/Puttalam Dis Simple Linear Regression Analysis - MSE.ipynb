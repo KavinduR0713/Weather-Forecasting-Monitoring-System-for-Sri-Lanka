{
 "cells": [
  {
   "cell_type": "code",
   "execution_count": 1,
   "id": "bd94be83",
   "metadata": {},
   "outputs": [
    {
     "name": "stdout",
     "output_type": "stream",
     "text": [
      "MSE for Regression Analysis or Time Series Analysis: 43277.98645507773\n"
     ]
    }
   ],
   "source": [
    "from sklearn.metrics import mean_squared_error\n",
    "import numpy as np\n",
    "\n",
    "# Example data (replace this with your actual data)\n",
    "actual_values = np.array([109,\n",
    "31,\n",
    "64,\n",
    "105,\n",
    "314,\n",
    "33,\n",
    "4,\n",
    "13,\n",
    "14,\n",
    "403,\n",
    "1082,\n",
    "68,\n",
    "39,\n",
    "50,\n",
    "35,\n",
    "243,\n",
    "196,\n",
    "2,\n",
    "0,\n",
    "21,\n",
    "11,\n",
    "384,\n",
    "237,\n",
    "314,\n",
    "198,\n",
    "81,\n",
    "36,\n",
    "178,\n",
    "203,\n",
    "6,\n",
    "2,\n",
    "7])\n",
    "predicted_values = np.array([9.770478316,\n",
    "22.05372709,\n",
    "34.33697586,\n",
    "46.62022463,\n",
    "58.9034734,\n",
    "71.18672217,\n",
    "83.46997094,\n",
    "95.75321971,\n",
    "108.0364685,\n",
    "120.3197172,\n",
    "132.602966,\n",
    "144.8862148,\n",
    "7.933065115,\n",
    "20.21631389,\n",
    "32.49956266,\n",
    "44.78281143,\n",
    "57.0660602,\n",
    "69.34930897,\n",
    "81.63255774,\n",
    "93.91580651,\n",
    "106.1990553,\n",
    "118.482304,\n",
    "130.7655528,\n",
    "143.0488016,\n",
    "6.095651914,\n",
    "18.37890068,\n",
    "30.66214945,\n",
    "42.94539822,\n",
    "55.228647,\n",
    "67.51189577,\n",
    "79.79514454,\n",
    "92.07839331\n",
    "\n",
    "])\n",
    "# Calculate MSE for Time Series Analysis or Regression Analysis\n",
    "mse_regression = mean_squared_error(actual_values, predicted_values)\n",
    "print(\"MSE for Regression Analysis or Time Series Analysis:\", mse_regression)"
   ]
  }
 ],
 "metadata": {
  "kernelspec": {
   "display_name": "Python 3 (ipykernel)",
   "language": "python",
   "name": "python3"
  },
  "language_info": {
   "codemirror_mode": {
    "name": "ipython",
    "version": 3
   },
   "file_extension": ".py",
   "mimetype": "text/x-python",
   "name": "python",
   "nbconvert_exporter": "python",
   "pygments_lexer": "ipython3",
   "version": "3.11.5"
  }
 },
 "nbformat": 4,
 "nbformat_minor": 5
}
