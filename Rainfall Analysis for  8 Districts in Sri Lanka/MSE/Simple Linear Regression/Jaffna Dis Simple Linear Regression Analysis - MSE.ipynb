{
 "cells": [
  {
   "cell_type": "code",
   "execution_count": 1,
   "id": "49db240d",
   "metadata": {},
   "outputs": [
    {
     "name": "stdout",
     "output_type": "stream",
     "text": [
      "MSE for Regression Analysis or Time Series Analysis: 12691.369715192703\n"
     ]
    }
   ],
   "source": [
    "from sklearn.metrics import mean_squared_error\n",
    "import numpy as np\n",
    "\n",
    "# Example data (replace this with your actual data)\n",
    "actual_values = np.array([279,\n",
    "8,\n",
    "2,\n",
    "50,\n",
    "46,\n",
    "55,\n",
    "42,\n",
    "16,\n",
    "34,\n",
    "441,\n",
    "332,\n",
    "157,\n",
    "120,\n",
    "70,\n",
    "51,\n",
    "235,\n",
    "12,\n",
    "4,\n",
    "58,\n",
    "107,\n",
    "46,\n",
    "318,\n",
    "363,\n",
    "157,\n",
    "30,\n",
    "148,\n",
    "8,\n",
    "16,\n",
    "107,\n",
    "15,\n",
    "19,\n",
    "23])\n",
    "predicted_values = np.array([-19.95938868,\n",
    "1.619426805,\n",
    "23.19824229,\n",
    "44.77705777,\n",
    "66.35587325,\n",
    "87.93468874,\n",
    "109.5135042,\n",
    "131.0923197,\n",
    "152.6711352,\n",
    "174.2499507,\n",
    "195.8287662,\n",
    "217.4075816,\n",
    "-18.71373385,\n",
    "2.865081635,\n",
    "24.44389712,\n",
    "46.0227126,\n",
    "67.60152808,\n",
    "89.18034357,\n",
    "110.7591591,\n",
    "132.3379745,\n",
    "153.91679,\n",
    "175.4956055,\n",
    "197.074421,\n",
    "218.6532365,\n",
    "-17.46807902,\n",
    "4.110736464,\n",
    "25.68955195,\n",
    "47.26836743,\n",
    "68.84718291,\n",
    "90.4259984,\n",
    "112.0048139,\n",
    "133.5836294\n",
    "])\n",
    "\n",
    "# Calculate MSE for Time Series Analysis or Regression Analysis\n",
    "mse_regression = mean_squared_error(actual_values, predicted_values)\n",
    "print(\"MSE for Regression Analysis or Time Series Analysis:\", mse_regression)"
   ]
  }
 ],
 "metadata": {
  "kernelspec": {
   "display_name": "Python 3 (ipykernel)",
   "language": "python",
   "name": "python3"
  },
  "language_info": {
   "codemirror_mode": {
    "name": "ipython",
    "version": 3
   },
   "file_extension": ".py",
   "mimetype": "text/x-python",
   "name": "python",
   "nbconvert_exporter": "python",
   "pygments_lexer": "ipython3",
   "version": "3.11.5"
  }
 },
 "nbformat": 4,
 "nbformat_minor": 5
}
