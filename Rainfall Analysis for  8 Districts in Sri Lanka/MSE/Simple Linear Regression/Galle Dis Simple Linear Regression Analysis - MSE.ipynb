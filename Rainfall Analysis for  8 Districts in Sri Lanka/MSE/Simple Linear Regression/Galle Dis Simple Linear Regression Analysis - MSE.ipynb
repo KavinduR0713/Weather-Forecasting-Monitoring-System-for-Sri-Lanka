{
 "cells": [
  {
   "cell_type": "code",
   "execution_count": 1,
   "id": "d49e26fb",
   "metadata": {},
   "outputs": [
    {
     "name": "stdout",
     "output_type": "stream",
     "text": [
      "MSE for Regression Analysis : 7374.3754306263145\n"
     ]
    }
   ],
   "source": [
    "from sklearn.metrics import mean_squared_error\n",
    "import numpy as np\n",
    "\n",
    "# Example data (replace this with your actual data)\n",
    "actual_values = np.array([148,\n",
    "35,\n",
    "161,\n",
    "209,\n",
    "246,\n",
    "127,\n",
    "142,\n",
    "120,\n",
    "139,\n",
    "240,\n",
    "417,\n",
    "76,\n",
    "50,\n",
    "70,\n",
    "48,\n",
    "421,\n",
    "249,\n",
    "91,\n",
    "0,\n",
    "51,\n",
    "84,\n",
    "364,\n",
    "224,\n",
    "294,\n",
    "71,\n",
    "52,\n",
    "93,\n",
    "134,\n",
    "281,\n",
    "29,\n",
    "42,\n",
    "46])\n",
    "predicted_values = np.array([43.639628,\n",
    "82.24365,\n",
    "94.118413,\n",
    "167.43051,\n",
    "267.225751,\n",
    "129.028888,\n",
    "57.999577,\n",
    "83.787622,\n",
    "290.952148,\n",
    "351.571098,\n",
    "324.520358,\n",
    "185.025871,\n",
    "38.446136,\n",
    "70.901895,\n",
    "83.919582,\n",
    "174.875407,\n",
    "255.641451,\n",
    "125.82936,\n",
    "77.608087,\n",
    "83.405583,\n",
    "297.044528,\n",
    "315.157329,\n",
    "309.723093,\n",
    "190.047884,\n",
    "39.122246,\n",
    "72.393113,\n",
    "85.259276,\n",
    "173.875979,\n",
    "257.164824,\n",
    "126.24112,\n",
    "74.996064,\n",
    "83.443813])\n",
    "\n",
    "# Calculate MSE for Time Series Analysis or Regression Analysis\n",
    "mse_regression = mean_squared_error(actual_values, predicted_values)\n",
    "print(\"MSE for Regression Analysis :\", mse_regression)"
   ]
  }
 ],
 "metadata": {
  "kernelspec": {
   "display_name": "Python 3 (ipykernel)",
   "language": "python",
   "name": "python3"
  },
  "language_info": {
   "codemirror_mode": {
    "name": "ipython",
    "version": 3
   },
   "file_extension": ".py",
   "mimetype": "text/x-python",
   "name": "python",
   "nbconvert_exporter": "python",
   "pygments_lexer": "ipython3",
   "version": "3.11.5"
  }
 },
 "nbformat": 4,
 "nbformat_minor": 5
}
