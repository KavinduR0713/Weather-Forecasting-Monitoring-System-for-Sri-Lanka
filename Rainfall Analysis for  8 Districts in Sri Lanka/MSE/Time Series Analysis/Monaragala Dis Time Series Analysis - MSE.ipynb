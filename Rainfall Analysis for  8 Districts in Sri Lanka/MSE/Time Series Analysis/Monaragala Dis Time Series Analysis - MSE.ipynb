{
 "cells": [
  {
   "cell_type": "code",
   "execution_count": 1,
   "id": "a964f1a3",
   "metadata": {},
   "outputs": [
    {
     "name": "stdout",
     "output_type": "stream",
     "text": [
      "MSE for Time Series Analysis: 5109.358318210947\n"
     ]
    }
   ],
   "source": [
    "from sklearn.metrics import mean_squared_error\n",
    "import numpy as np\n",
    "\n",
    "# Example data (replace this with your actual data)\n",
    "actual_values = np.array([260,\n",
    "106,\n",
    "191,\n",
    "274,\n",
    "243,\n",
    "76,\n",
    "124,\n",
    "107,\n",
    "145,\n",
    "368,\n",
    "299,\n",
    "237,\n",
    "141,\n",
    "105,\n",
    "147,\n",
    "409,\n",
    "145,\n",
    "45,\n",
    "195,\n",
    "144,\n",
    "65,\n",
    "301,\n",
    "391,\n",
    "252,\n",
    "138,\n",
    "168,\n",
    "170,\n",
    "227,\n",
    "242,\n",
    "53,\n",
    "32,\n",
    "46])\n",
    "\n",
    "predicted_values = np.array([105.3051369,\n",
    "116.3895507,\n",
    "126.5536596,\n",
    "194.6746049,\n",
    "193.6315469,\n",
    "34.23560783,\n",
    "31.8049722,\n",
    "59.25069556,\n",
    "117.3452637,\n",
    "308.2176319,\n",
    "365.120185,\n",
    "294.6820732,\n",
    "112.9107358,\n",
    "111.7504187,\n",
    "118.9989129,\n",
    "191.4920176,\n",
    "191.8978033,\n",
    "32.55250925,\n",
    "32.92298764,\n",
    "56.89119977,\n",
    "114.2074997,\n",
    "292.7154286,\n",
    "363.2826121,\n",
    "287.5063258,\n",
    "108.9347647,\n",
    "108.4056111,\n",
    "115.8043927,\n",
    "188.0721313,\n",
    "188.4032353,\n",
    "29.05533068,\n",
    "29.28142362,\n",
    "53.42888659\n",
    "])\n",
    "\n",
    "# Calculate MSE for Time Series Analysis or Regression Analysis\n",
    "mse_regression = mean_squared_error(actual_values, predicted_values)\n",
    "print(\"MSE for Time Series Analysis:\", mse_regression)"
   ]
  },
  {
   "cell_type": "code",
   "execution_count": null,
   "id": "c0c5cf1b",
   "metadata": {},
   "outputs": [],
   "source": []
  }
 ],
 "metadata": {
  "kernelspec": {
   "display_name": "Python 3 (ipykernel)",
   "language": "python",
   "name": "python3"
  },
  "language_info": {
   "codemirror_mode": {
    "name": "ipython",
    "version": 3
   },
   "file_extension": ".py",
   "mimetype": "text/x-python",
   "name": "python",
   "nbconvert_exporter": "python",
   "pygments_lexer": "ipython3",
   "version": "3.11.5"
  }
 },
 "nbformat": 4,
 "nbformat_minor": 5
}
