{
 "cells": [
  {
   "cell_type": "code",
   "execution_count": 1,
   "id": "a2b369db",
   "metadata": {},
   "outputs": [
    {
     "name": "stdout",
     "output_type": "stream",
     "text": [
      "MSE for Regression Analysis or Time Series Analysis: 27781.357790433907\n"
     ]
    }
   ],
   "source": [
    "from sklearn.metrics import mean_squared_error\n",
    "import numpy as np\n",
    "\n",
    "# Example data (replace this with your actual data)\n",
    "actual_values = np.array([109,\n",
    "31,\n",
    "64,\n",
    "105,\n",
    "314,\n",
    "33,\n",
    "4,\n",
    "13,\n",
    "14,\n",
    "403,\n",
    "1082,\n",
    "68,\n",
    "39,\n",
    "50,\n",
    "35,\n",
    "243,\n",
    "196,\n",
    "2,\n",
    "0,\n",
    "21,\n",
    "11,\n",
    "384,\n",
    "237,\n",
    "314,\n",
    "198,\n",
    "81,\n",
    "36,\n",
    "178,\n",
    "203,\n",
    "6,\n",
    "2,\n",
    "7])\n",
    "predicted_values = np.array([57.96025295,\n",
    "42.99482755,\n",
    "42.52774284,\n",
    "99.0874578,\n",
    "175.9293989,\n",
    "33.36069349,\n",
    "8.824003444,\n",
    "50.51676298,\n",
    "111.8744827,\n",
    "239.2334438,\n",
    "253.335531,\n",
    "113.3663877,\n",
    "32.89385662,\n",
    "33.6636869,\n",
    "39.69137331,\n",
    "95.18585487,\n",
    "161.1731666,\n",
    "34.66684731,\n",
    "16.11223041,\n",
    "47.37391456,\n",
    "111.0322296,\n",
    "214.9604606,\n",
    "250.3260335,\n",
    "122.6059594,\n",
    "36.16678673,\n",
    "35.18392855,\n",
    "40.4881876,\n",
    "96.10132158,\n",
    "163.2976892,\n",
    "35.00224187,\n",
    "15.78130462,\n",
    "48.20486654\n",
    "])\n",
    "# Calculate MSE for Time Series Analysis or Regression Analysis\n",
    "mse_regression = mean_squared_error(actual_values, predicted_values)\n",
    "print(\"MSE for Regression Analysis or Time Series Analysis:\", mse_regression)\n"
   ]
  }
 ],
 "metadata": {
  "kernelspec": {
   "display_name": "Python 3 (ipykernel)",
   "language": "python",
   "name": "python3"
  },
  "language_info": {
   "codemirror_mode": {
    "name": "ipython",
    "version": 3
   },
   "file_extension": ".py",
   "mimetype": "text/x-python",
   "name": "python",
   "nbconvert_exporter": "python",
   "pygments_lexer": "ipython3",
   "version": "3.11.5"
  }
 },
 "nbformat": 4,
 "nbformat_minor": 5
}
