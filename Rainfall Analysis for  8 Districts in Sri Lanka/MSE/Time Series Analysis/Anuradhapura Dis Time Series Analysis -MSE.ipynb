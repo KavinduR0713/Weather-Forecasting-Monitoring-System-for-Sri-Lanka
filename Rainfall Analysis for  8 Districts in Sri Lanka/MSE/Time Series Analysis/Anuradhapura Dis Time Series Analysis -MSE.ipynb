{
 "cells": [
  {
   "cell_type": "code",
   "execution_count": 1,
   "id": "6c86fda0",
   "metadata": {},
   "outputs": [
    {
     "name": "stdout",
     "output_type": "stream",
     "text": [
      "MSE for  Time Series Analysis: 5446.397724881444\n"
     ]
    }
   ],
   "source": [
    "from sklearn.metrics import mean_squared_error\n",
    "import numpy as np\n",
    "\n",
    "# Example data (replace this with your actual data)\n",
    "actual_values = np.array([190,\n",
    "29,\n",
    "48,\n",
    "104,\n",
    "158,\n",
    "35,\n",
    "31,\n",
    "41,\n",
    "77,\n",
    "336,\n",
    "501,\n",
    "88,\n",
    "67,\n",
    "57,\n",
    "31,\n",
    "243,\n",
    "37,\n",
    "16,\n",
    "81,\n",
    "69,\n",
    "30,\n",
    "186,\n",
    "166,\n",
    "246,\n",
    "105,\n",
    "94,\n",
    "55,\n",
    "138,\n",
    "123,\n",
    "4,\n",
    "1,\n",
    "20])\n",
    "predicted_values = np.array([62.44634735,\n",
    "39.3798109,\n",
    "38.6075208,\n",
    "117.095787,\n",
    "155.6630732,\n",
    "6.559362775,\n",
    "9.404915759,\n",
    "45.55889823,\n",
    "88.88220418,\n",
    "209.8272717,\n",
    "226.2406433,\n",
    "182.6126079,\n",
    "57.93817462,\n",
    "37.81417511,\n",
    "37.17397404,\n",
    "115.7175667,\n",
    "154.3734447,\n",
    "5.510193725,\n",
    "8.650704143,\n",
    "44.07681913,\n",
    "87.52904606,\n",
    "207.3226777,\n",
    "225.3949343,\n",
    "181.9263662,\n",
    "56.7426465,\n",
    "36.5958994,\n",
    "35.95467719,\n",
    "114.4978421,\n",
    "153.1530353,\n",
    "4.287925407,\n",
    "7.426155626,\n",
    "42.85789747\n",
    "])\n",
    "\n",
    "# Calculate MSE for Time Series Analysis or Regression Analysis\n",
    "mse_regression = mean_squared_error(actual_values, predicted_values)\n",
    "print(\"MSE for  Time Series Analysis:\", mse_regression)"
   ]
  }
 ],
 "metadata": {
  "kernelspec": {
   "display_name": "Python 3 (ipykernel)",
   "language": "python",
   "name": "python3"
  },
  "language_info": {
   "codemirror_mode": {
    "name": "ipython",
    "version": 3
   },
   "file_extension": ".py",
   "mimetype": "text/x-python",
   "name": "python",
   "nbconvert_exporter": "python",
   "pygments_lexer": "ipython3",
   "version": "3.11.5"
  }
 },
 "nbformat": 4,
 "nbformat_minor": 5
}
