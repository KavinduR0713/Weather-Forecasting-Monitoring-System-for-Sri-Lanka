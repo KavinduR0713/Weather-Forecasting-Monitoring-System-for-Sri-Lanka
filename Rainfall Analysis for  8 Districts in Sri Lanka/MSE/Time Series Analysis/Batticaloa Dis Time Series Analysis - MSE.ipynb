{
 "cells": [
  {
   "cell_type": "code",
   "execution_count": 1,
   "id": "f3080e26",
   "metadata": {},
   "outputs": [
    {
     "name": "stdout",
     "output_type": "stream",
     "text": [
      "MSE for Regression Analysis or Time Series Analysis: 8763.88150288226\n"
     ]
    }
   ],
   "source": [
    "from sklearn.metrics import mean_squared_error\n",
    "import numpy as np\n",
    "\n",
    "# Example data (replace this with your actual data)\n",
    "actual_values = np.array([484,\n",
    "62,\n",
    "67,\n",
    "93,\n",
    "54,\n",
    "44,\n",
    "44,\n",
    "113,\n",
    "77,\n",
    "160,\n",
    "289,\n",
    "216,\n",
    "270,\n",
    "179,\n",
    "65,\n",
    "189,\n",
    "35,\n",
    "34,\n",
    "121,\n",
    "102,\n",
    "57,\n",
    "231,\n",
    "233,\n",
    "322,\n",
    "137,\n",
    "266,\n",
    "102,\n",
    "94,\n",
    "131,\n",
    "31,\n",
    "22,\n",
    "66])\n",
    "predicted_values = np.array([177.108844,\n",
    "87.32061275,\n",
    "43.30581208,\n",
    "24.38252273,\n",
    "131.5213058,\n",
    "12.96957682,\n",
    "37.64596964,\n",
    "42.69456832,\n",
    "72.28915136,\n",
    "233.4650251,\n",
    "280.235236,\n",
    "417.7959816,\n",
    "178.8817504,\n",
    "90.79285138,\n",
    "44.41553927,\n",
    "19.73101154,\n",
    "127.7733328,\n",
    "3.277024768,\n",
    "25.91938101,\n",
    "38.18878685,\n",
    "68.73742314,\n",
    "245.8067273,\n",
    "281.0067702,\n",
    "401.9788105,\n",
    "175.4947284,\n",
    "87.59446604,\n",
    "40.95490017,\n",
    "15.63083843,\n",
    "123.7734581,\n",
    "-1.382735861,\n",
    "21.03382942,\n",
    "34.10479067\n",
    "])\n",
    "\n",
    "# Calculate MSE for Time Series Analysis or Regression Analysis\n",
    "mse_regression = mean_squared_error(actual_values, predicted_values)\n",
    "print(\"MSE for Regression Analysis or Time Series Analysis:\", mse_regression)"
   ]
  }
 ],
 "metadata": {
  "kernelspec": {
   "display_name": "Python 3 (ipykernel)",
   "language": "python",
   "name": "python3"
  },
  "language_info": {
   "codemirror_mode": {
    "name": "ipython",
    "version": 3
   },
   "file_extension": ".py",
   "mimetype": "text/x-python",
   "name": "python",
   "nbconvert_exporter": "python",
   "pygments_lexer": "ipython3",
   "version": "3.11.5"
  }
 },
 "nbformat": 4,
 "nbformat_minor": 5
}
