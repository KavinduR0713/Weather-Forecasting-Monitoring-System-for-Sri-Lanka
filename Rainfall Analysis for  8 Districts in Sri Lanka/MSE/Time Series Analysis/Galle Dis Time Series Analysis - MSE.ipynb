{
 "cells": [
  {
   "cell_type": "code",
   "execution_count": 1,
   "id": "1823a173",
   "metadata": {},
   "outputs": [
    {
     "name": "stdout",
     "output_type": "stream",
     "text": [
      "MSE for Time Series Analysis: 16830.999110674722\n"
     ]
    }
   ],
   "source": [
    "from sklearn.metrics import mean_squared_error\n",
    "import numpy as np\n",
    "\n",
    "# Example data (replace this with your actual data)\n",
    "actual_values = np.array([236,\n",
    "35,\n",
    "226,\n",
    "341,\n",
    "365,\n",
    "249,\n",
    "205,\n",
    "82,\n",
    "185,\n",
    "230,\n",
    "429,\n",
    "146,\n",
    "58,\n",
    "40,\n",
    "124,\n",
    "304,\n",
    "494,\n",
    "166,\n",
    "15,\n",
    "114,\n",
    "42,\n",
    "705,\n",
    "122,\n",
    "339,\n",
    "44,\n",
    "70,\n",
    "139,\n",
    "33,\n",
    "313,\n",
    "152,\n",
    "99,\n",
    "108])\n",
    "predicted_values = np.array([79.67409758,\n",
    "74.55358611,\n",
    "131.6101283,\n",
    "145.9846678,\n",
    "328.6053516,\n",
    "167.4835342,\n",
    "126.3573609,\n",
    "174.702879,\n",
    "337.5137873,\n",
    "442.2538747,\n",
    "345.3795542,\n",
    "174.8217255,\n",
    "77.34763117,\n",
    "77.47543731,\n",
    "117.0218375,\n",
    "184.3969375,\n",
    "322.1386564,\n",
    "178.5861411,\n",
    "165.0804417,\n",
    "164.1998049,\n",
    "352.2664775,\n",
    "388.3354446,\n",
    "324.1526061,\n",
    "181.659359,\n",
    "83.29853714,\n",
    "82.4671487,\n",
    "125.2137426,\n",
    "182.9023385,\n",
    "328.8462401,\n",
    "182.0827188,\n",
    "163.5290382,\n",
    "171.6450865])\n",
    "\n",
    "# Calculate MSE for Time Series Analysis or Regression Analysis\n",
    "mse_regression = mean_squared_error(actual_values, predicted_values)\n",
    "print(\"MSE for Time Series Analysis:\", mse_regression)"
   ]
  }
 ],
 "metadata": {
  "kernelspec": {
   "display_name": "Python 3 (ipykernel)",
   "language": "python",
   "name": "python3"
  },
  "language_info": {
   "codemirror_mode": {
    "name": "ipython",
    "version": 3
   },
   "file_extension": ".py",
   "mimetype": "text/x-python",
   "name": "python",
   "nbconvert_exporter": "python",
   "pygments_lexer": "ipython3",
   "version": "3.11.5"
  }
 },
 "nbformat": 4,
 "nbformat_minor": 5
}
