{
 "cells": [
  {
   "cell_type": "code",
   "execution_count": 1,
   "id": "557aefdb",
   "metadata": {},
   "outputs": [
    {
     "name": "stdout",
     "output_type": "stream",
     "text": [
      "MSE for TimeSerires Analysis : 7374.37542452578\n"
     ]
    }
   ],
   "source": [
    "from sklearn.metrics import mean_squared_error\n",
    "import numpy as np\n",
    "\n",
    "actual_values = np.array([148,35,161,209,246,127,142,120,139,240,417,76,50,70,48,421,249,91,0,51,84,364,224,294,71,52,93,134,\n",
    "                          281,29,42,46])\n",
    "\n",
    "predicted_values = np.array([43.63962802,82.24365042,94.11841274,167.4305098,267.2257512,129.0288882,57.99957744,83.78762247,\n",
    "290.952148,351.5710982,324.520358,185.0258707,38.44613597,70.90189511,83.91958167,174.8754069,255.6414505,\n",
    "125.82936,77.60808652,83.40558265,297.0445281,315.1573287,309.7230927,190.0478839,39.122246,72.39311307,85.25927609,\n",
    "173.8759786,257.164824,126.2411197,74.99606353,83.44381291])\n",
    "\n",
    "mse_regression = mean_squared_error(actual_values, predicted_values)\n",
    "print(\"MSE for TimeSerires Analysis :\", mse_regression)"
   ]
  },
  {
   "cell_type": "code",
   "execution_count": null,
   "id": "c5e5427d",
   "metadata": {},
   "outputs": [],
   "source": []
  }
 ],
 "metadata": {
  "kernelspec": {
   "display_name": "Python 3 (ipykernel)",
   "language": "python",
   "name": "python3"
  },
  "language_info": {
   "codemirror_mode": {
    "name": "ipython",
    "version": 3
   },
   "file_extension": ".py",
   "mimetype": "text/x-python",
   "name": "python",
   "nbconvert_exporter": "python",
   "pygments_lexer": "ipython3",
   "version": "3.11.5"
  }
 },
 "nbformat": 4,
 "nbformat_minor": 5
}
