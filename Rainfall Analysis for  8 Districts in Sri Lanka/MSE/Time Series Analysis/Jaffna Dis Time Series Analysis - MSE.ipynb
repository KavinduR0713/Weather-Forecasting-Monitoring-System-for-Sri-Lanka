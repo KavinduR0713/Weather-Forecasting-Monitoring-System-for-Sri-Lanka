{
 "cells": [
  {
   "cell_type": "code",
   "execution_count": 1,
   "id": "b6e41279",
   "metadata": {},
   "outputs": [
    {
     "name": "stdout",
     "output_type": "stream",
     "text": [
      "MSE for Time Series Analysis: 7979.901928776328\n"
     ]
    }
   ],
   "source": [
    "from sklearn.metrics import mean_squared_error\n",
    "import numpy as np\n",
    "\n",
    "# Example data (replace this with your actual data)\n",
    "actual_values = np.array([279,\n",
    "8,\n",
    "2,\n",
    "50,\n",
    "46,\n",
    "55,\n",
    "42,\n",
    "16,\n",
    "34,\n",
    "441,\n",
    "332,\n",
    "157,\n",
    "120,\n",
    "70,\n",
    "51,\n",
    "235,\n",
    "12,\n",
    "4,\n",
    "58,\n",
    "107,\n",
    "46,\n",
    "318,\n",
    "363,\n",
    "157,\n",
    "30,\n",
    "148,\n",
    "8,\n",
    "16,\n",
    "107,\n",
    "15,\n",
    "19,\n",
    "23])\n",
    "predicted_values = np.array([60.40301167,\n",
    "30.2256048,\n",
    "29.49510191,\n",
    "37.98288269,\n",
    "77.67859735,\n",
    "20.58994573,\n",
    "38.53903894,\n",
    "49.29371371,\n",
    "100.759065,\n",
    "160.3959562,\n",
    "313.8761455,\n",
    "309.7315575,\n",
    "60.03940944,\n",
    "35.07210245,\n",
    "37.55822472,\n",
    "43.02411183,\n",
    "88.9482167,\n",
    "25.09370602,\n",
    "31.78810954,\n",
    "49.45843017,\n",
    "90.23490907,\n",
    "192.0647447,\n",
    "324.2907494,\n",
    "246.8077021,\n",
    "61.40550784,\n",
    "37.60976926,\n",
    "40.81919751,\n",
    "45.60556691,\n",
    "92.93021791,\n",
    "27.55430324,\n",
    "31.71792247,\n",
    "50.94332888\n",
    "])\n",
    "\n",
    "# Calculate MSE for Time Series Analysis or Regression Analysis\n",
    "mse_regression = mean_squared_error(actual_values, predicted_values)\n",
    "print(\"MSE for Time Series Analysis:\", mse_regression)"
   ]
  }
 ],
 "metadata": {
  "kernelspec": {
   "display_name": "Python 3 (ipykernel)",
   "language": "python",
   "name": "python3"
  },
  "language_info": {
   "codemirror_mode": {
    "name": "ipython",
    "version": 3
   },
   "file_extension": ".py",
   "mimetype": "text/x-python",
   "name": "python",
   "nbconvert_exporter": "python",
   "pygments_lexer": "ipython3",
   "version": "3.11.5"
  }
 },
 "nbformat": 4,
 "nbformat_minor": 5
}
