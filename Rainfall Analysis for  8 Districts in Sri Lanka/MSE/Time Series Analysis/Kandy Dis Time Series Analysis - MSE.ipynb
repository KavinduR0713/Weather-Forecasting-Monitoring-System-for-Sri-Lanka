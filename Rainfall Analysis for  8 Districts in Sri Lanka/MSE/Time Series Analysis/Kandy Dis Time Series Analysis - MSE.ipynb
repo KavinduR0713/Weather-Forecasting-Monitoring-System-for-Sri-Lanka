{
 "cells": [
  {
   "cell_type": "code",
   "execution_count": 1,
   "id": "6c0ba8dd",
   "metadata": {},
   "outputs": [
    {
     "name": "stdout",
     "output_type": "stream",
     "text": [
      "MSE for Regression Analysis or Time Series Analysis: 9448.305872755136\n"
     ]
    }
   ],
   "source": [
    "from sklearn.metrics import mean_squared_error\n",
    "import numpy as np\n",
    "\n",
    "# Example data (replace this with your actual data)\n",
    "actual_values = np.array([160,\n",
    "23,\n",
    "134,\n",
    "205,\n",
    "507,\n",
    "266,\n",
    "165,\n",
    "198,\n",
    "250,\n",
    "445,\n",
    "627,\n",
    "60,\n",
    "27,\n",
    "39,\n",
    "92,\n",
    "306,\n",
    "402,\n",
    "83,\n",
    "150,\n",
    "288,\n",
    "203,\n",
    "421,\n",
    "337,\n",
    "257,\n",
    "57,\n",
    "65,\n",
    "205,\n",
    "279,\n",
    "146,\n",
    "162,\n",
    "106,\n",
    "75])\n",
    "predicted_values = np.array([39.0462892,\n",
    "51.99931975,\n",
    "125.26151,\n",
    "226.5277553,\n",
    "313.2219811,\n",
    "190.3011413,\n",
    "87.77478039,\n",
    "175.1408414,\n",
    "209.7670223,\n",
    "328.4104821,\n",
    "317.1290396,\n",
    "190.8653311,\n",
    "34.04094316,\n",
    "46.51587562,\n",
    "119.5666985,\n",
    "225.7141241,\n",
    "312.4239192,\n",
    "184.987369,\n",
    "88.86599525,\n",
    "169.9711284,\n",
    "213.2742494,\n",
    "314.3862639,\n",
    "312.3244921,\n",
    "188.8530873,\n",
    "31.20239326,\n",
    "43.69911668,\n",
    "116.7595734,\n",
    "222.6845224,\n",
    "309.3936079,\n",
    "182.1628767,\n",
    "85.74957367,\n",
    "167.1400701\n",
    "])\n",
    "\n",
    "# Calculate MSE for Time Series Analysis or Regression Analysis\n",
    "mse_regression = mean_squared_error(actual_values, predicted_values)\n",
    "print(\"MSE for Regression Analysis or Time Series Analysis:\", mse_regression)"
   ]
  },
  {
   "cell_type": "code",
   "execution_count": null,
   "id": "607896de",
   "metadata": {},
   "outputs": [],
   "source": []
  }
 ],
 "metadata": {
  "kernelspec": {
   "display_name": "Python 3 (ipykernel)",
   "language": "python",
   "name": "python3"
  },
  "language_info": {
   "codemirror_mode": {
    "name": "ipython",
    "version": 3
   },
   "file_extension": ".py",
   "mimetype": "text/x-python",
   "name": "python",
   "nbconvert_exporter": "python",
   "pygments_lexer": "ipython3",
   "version": "3.11.5"
  }
 },
 "nbformat": 4,
 "nbformat_minor": 5
}
