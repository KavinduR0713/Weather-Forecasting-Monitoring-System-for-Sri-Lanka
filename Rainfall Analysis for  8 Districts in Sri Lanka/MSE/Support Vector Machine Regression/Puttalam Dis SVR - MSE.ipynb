{
 "cells": [
  {
   "cell_type": "code",
   "execution_count": 1,
   "id": "5fda71eb",
   "metadata": {},
   "outputs": [
    {
     "name": "stdout",
     "output_type": "stream",
     "text": [
      "MSE for Regression Analysis or Time Series Analysis: 47397.947199714385\n"
     ]
    }
   ],
   "source": [
    "from sklearn.metrics import mean_squared_error\n",
    "import numpy as np\n",
    "\n",
    "# Example data (replace this with your actual data)\n",
    "actual_values = np.array([109,\n",
    "31,\n",
    "64,\n",
    "105,\n",
    "314,\n",
    "33,\n",
    "4,\n",
    "13,\n",
    "14,\n",
    "403,\n",
    "1082,\n",
    "68,\n",
    "39,\n",
    "50,\n",
    "35,\n",
    "243,\n",
    "196,\n",
    "2,\n",
    "0,\n",
    "21,\n",
    "11,\n",
    "384,\n",
    "237,\n",
    "314,\n",
    "198,\n",
    "81,\n",
    "36,\n",
    "178,\n",
    "203,\n",
    "6,\n",
    "2,\n",
    "7,\n",
    "])\n",
    "predicted_values = np.array([65.0438205,\n",
    "64.47084371,\n",
    "64.21828899,\n",
    "64.36133283,\n",
    "64.93696667,\n",
    "65.93078711,\n",
    "67.26197399,\n",
    "68.77787256,\n",
    "70.27202048,\n",
    "71.52908833,\n",
    "72.38302672,\n",
    "72.76342044,\n",
    "66.51081284,\n",
    "66.13242198,\n",
    "65.99091638,\n",
    "66.13388017,\n",
    "66.57752977,\n",
    "67.30022914,\n",
    "68.23645495,\n",
    "69.27709604,\n",
    "70.2834482,\n",
    "71.11634239,\n",
    "71.67197714,\n",
    "71.90959431,\n",
    "67.90049149,\n",
    "67.684924,\n",
    "67.61676039,\n",
    "67.72190564,\n",
    "68.00545247,\n",
    "68.44921183,\n",
    "69.01019357,\n",
    "69.62253977\n",
    "])\n",
    "\n",
    "# Calculate MSE for Time Series Analysis or Regression Analysis\n",
    "mse_regression = mean_squared_error(actual_values, predicted_values)\n",
    "print(\"MSE for Regression Analysis or Time Series Analysis:\", mse_regression)"
   ]
  }
 ],
 "metadata": {
  "kernelspec": {
   "display_name": "Python 3 (ipykernel)",
   "language": "python",
   "name": "python3"
  },
  "language_info": {
   "codemirror_mode": {
    "name": "ipython",
    "version": 3
   },
   "file_extension": ".py",
   "mimetype": "text/x-python",
   "name": "python",
   "nbconvert_exporter": "python",
   "pygments_lexer": "ipython3",
   "version": "3.11.5"
  }
 },
 "nbformat": 4,
 "nbformat_minor": 5
}
