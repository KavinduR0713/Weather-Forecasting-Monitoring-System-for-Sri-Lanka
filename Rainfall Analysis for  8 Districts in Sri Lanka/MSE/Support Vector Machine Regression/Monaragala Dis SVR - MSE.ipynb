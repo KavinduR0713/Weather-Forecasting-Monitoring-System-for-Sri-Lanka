{
 "cells": [
  {
   "cell_type": "code",
   "execution_count": 2,
   "id": "85fd4a2b",
   "metadata": {},
   "outputs": [
    {
     "name": "stdout",
     "output_type": "stream",
     "text": [
      "Mean Squared Error (MSE) for Random Forest Regressor: 12157.22063133027\n"
     ]
    }
   ],
   "source": [
    "import numpy as np\n",
    "from sklearn.metrics import mean_squared_error\n",
    "\n",
    "# Actual values (replace with your actual data)\n",
    "y_actual = np.array([260,\n",
    "106,\n",
    "191,\n",
    "274,\n",
    "243,\n",
    "76,\n",
    "124,\n",
    "107,\n",
    "145,\n",
    "368,\n",
    "299,\n",
    "237,\n",
    "141,\n",
    "105,\n",
    "147,\n",
    "409,\n",
    "145,\n",
    "45,\n",
    "195,\n",
    "144,\n",
    "65,\n",
    "301,\n",
    "391,\n",
    "252,\n",
    "138,\n",
    "168,\n",
    "170,\n",
    "227,\n",
    "242,\n",
    "53,\n",
    "32,\n",
    "46])\n",
    "\n",
    "# Predicted values from Random Forest Regressor (replace with your actual predicted values)\n",
    "y_predicted_rf = np.array([134.0614722,\n",
    "133.6997394,\n",
    "133.4569074,\n",
    "133.3530848,\n",
    "133.4332874,\n",
    "133.7635067,\n",
    "134.3971389,\n",
    "135.3278241,\n",
    "136.459668,\n",
    "137.6192957,\n",
    "138.6092367,\n",
    "139.2763807,\n",
    "135.1586224,\n",
    "134.9177682,\n",
    "134.765731,\n",
    "134.7118756,\n",
    "134.7777309,\n",
    "134.9972234,\n",
    "135.3988543,\n",
    "135.9783104,\n",
    "136.6798163,\n",
    "137.4015495,\n",
    "138.0259231,\n",
    "138.4598666,\n",
    "136.1985119,\n",
    "136.0659668,\n",
    "135.9860354,\n",
    "135.9616388,\n",
    "136.0010686,\n",
    "136.1194895,\n",
    "136.3308017,\n",
    "136.6336949])\n",
    "\n",
    "# Calculate Mean Squared Error (MSE)\n",
    "mse_rf = mean_squared_error(y_actual, y_predicted_rf)\n",
    "\n",
    "# Print the result\n",
    "print(\"Mean Squared Error (MSE) for Random Forest Regressor:\", mse_rf)"
   ]
  }
 ],
 "metadata": {
  "kernelspec": {
   "display_name": "Python 3 (ipykernel)",
   "language": "python",
   "name": "python3"
  },
  "language_info": {
   "codemirror_mode": {
    "name": "ipython",
    "version": 3
   },
   "file_extension": ".py",
   "mimetype": "text/x-python",
   "name": "python",
   "nbconvert_exporter": "python",
   "pygments_lexer": "ipython3",
   "version": "3.11.5"
  }
 },
 "nbformat": 4,
 "nbformat_minor": 5
}
