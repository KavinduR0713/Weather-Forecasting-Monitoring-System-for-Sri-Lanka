{
 "cells": [
  {
   "cell_type": "code",
   "execution_count": 1,
   "id": "f0619954",
   "metadata": {},
   "outputs": [
    {
     "name": "stdout",
     "output_type": "stream",
     "text": [
      "Mean Squared Error (MSE) for Random Forest Regressor: 12585.353102254201\n"
     ]
    }
   ],
   "source": [
    "import numpy as np\n",
    "from sklearn.metrics import mean_squared_error\n",
    "\n",
    "# Actual values (replace with your actual data)\n",
    "y_actual = np.array([190,\n",
    "29,\n",
    "48,\n",
    "104,\n",
    "158,\n",
    "35,\n",
    "31,\n",
    "41,\n",
    "77,\n",
    "336,\n",
    "501,\n",
    "88,\n",
    "67,\n",
    "57,\n",
    "31,\n",
    "243,\n",
    "37,\n",
    "16,\n",
    "81,\n",
    "69,\n",
    "30,\n",
    "186,\n",
    "166,\n",
    "246,\n",
    "105,\n",
    "94,\n",
    "55,\n",
    "138,\n",
    "123,\n",
    "4,\n",
    "1,\n",
    "20\n",
    "])\n",
    "\n",
    "# Predicted values from Random Forest Regressor (replace with your actual predicted values)\n",
    "y_predicted_rf = np.array([63.8440833,\n",
    "63.87840636,\n",
    "64.10938144,\n",
    "64.50769349,\n",
    "65.05010042,\n",
    "65.73090518,\n",
    "66.54126967,\n",
    "67.43179013,\n",
    "68.29247762,\n",
    "68.97430223,\n",
    "69.34523389,\n",
    "69.34730359,\n",
    "64.73732499,\n",
    "64.79560095,\n",
    "64.98112257,\n",
    "65.26699375,\n",
    "65.62965989,\n",
    "66.05916961,\n",
    "66.54899486,\n",
    "67.07361875,\n",
    "67.57426116,\n",
    "67.9682925,\n",
    "68.17994235,\n",
    "68.17378767,\n",
    "65.41115967,\n",
    "65.46037214,\n",
    "65.58029984,\n",
    "65.75201666,\n",
    "65.95824959,\n",
    "66.19063516,\n",
    "66.44562958,\n",
    "])\n",
    "\n",
    "# Calculate Mean Squared Error (MSE)\n",
    "mse_rf = mean_squared_error(y_actual, y_predicted_rf)\n",
    "\n",
    "# Print the result\n",
    "print(\"Mean Squared Error (MSE) for Random Forest Regressor:\", mse_rf)\n"
   ]
  }
 ],
 "metadata": {
  "kernelspec": {
   "display_name": "Python 3 (ipykernel)",
   "language": "python",
   "name": "python3"
  },
  "language_info": {
   "codemirror_mode": {
    "name": "ipython",
    "version": 3
   },
   "file_extension": ".py",
   "mimetype": "text/x-python",
   "name": "python",
   "nbconvert_exporter": "python",
   "pygments_lexer": "ipython3",
   "version": "3.11.5"
  }
 },
 "nbformat": 4,
 "nbformat_minor": 5
}
