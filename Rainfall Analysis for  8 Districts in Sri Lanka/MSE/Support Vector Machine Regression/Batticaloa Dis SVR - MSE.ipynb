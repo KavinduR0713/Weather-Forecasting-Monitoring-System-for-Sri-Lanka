{
 "cells": [
  {
   "cell_type": "code",
   "execution_count": 1,
   "id": "9b97f00c",
   "metadata": {},
   "outputs": [
    {
     "name": "stdout",
     "output_type": "stream",
     "text": [
      "MSE for Regression Analysis or Time Series Analysis: 16716.301753857235\n"
     ]
    }
   ],
   "source": [
    "from sklearn.metrics import mean_squared_error\n",
    "import numpy as np\n",
    "\n",
    "# Example data (replace this with your actual data)\n",
    "actual_values = np.array([484,\n",
    "62,\n",
    "67,\n",
    "93,\n",
    "54,\n",
    "44,\n",
    "44,\n",
    "113,\n",
    "77,\n",
    "160,\n",
    "289,\n",
    "216,\n",
    "270,\n",
    "179,\n",
    "65,\n",
    "189,\n",
    "35,\n",
    "34,\n",
    "121,\n",
    "102,\n",
    "57,\n",
    "231,\n",
    "233,\n",
    "322,\n",
    "137,\n",
    "266,\n",
    "102,\n",
    "94,\n",
    "131,\n",
    "31,\n",
    "22,\n",
    "66])\n",
    "predicted_values = np.array([10.53721933,\n",
    "34.54833494,\n",
    "58.55945055,\n",
    "82.57056617,\n",
    "106.5816818,\n",
    "130.5927974,\n",
    "154.603913,\n",
    "178.6150286,\n",
    "202.6261442,\n",
    "226.6372599,\n",
    "250.6483755,\n",
    "274.6594911,\n",
    "9.440991502,\n",
    "33.45210712,\n",
    "57.46322273,\n",
    "81.47433834,\n",
    "105.485454,\n",
    "129.4965696,\n",
    "153.5076852,\n",
    "177.5188008,\n",
    "201.5299164,\n",
    "225.541032,\n",
    "249.5521476,\n",
    "273.5632633,\n",
    "8.344763678,\n",
    "32.35587929,\n",
    "56.36699491,\n",
    "80.37811052,\n",
    "104.3892261,\n",
    "128.4003417,\n",
    "152.4114574,\n",
    "176.422573\n",
    "])\n",
    "\n",
    "# Calculate MSE for Time Series Analysis or Regression Analysis\n",
    "mse_regression = mean_squared_error(actual_values, predicted_values)\n",
    "print(\"MSE for Regression Analysis or Time Series Analysis:\", mse_regression)"
   ]
  }
 ],
 "metadata": {
  "kernelspec": {
   "display_name": "Python 3 (ipykernel)",
   "language": "python",
   "name": "python3"
  },
  "language_info": {
   "codemirror_mode": {
    "name": "ipython",
    "version": 3
   },
   "file_extension": ".py",
   "mimetype": "text/x-python",
   "name": "python",
   "nbconvert_exporter": "python",
   "pygments_lexer": "ipython3",
   "version": "3.11.5"
  }
 },
 "nbformat": 4,
 "nbformat_minor": 5
}
