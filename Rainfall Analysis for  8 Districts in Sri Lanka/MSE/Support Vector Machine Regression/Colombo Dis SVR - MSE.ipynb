{
 "cells": [
  {
   "cell_type": "code",
   "execution_count": 1,
   "id": "8dc8ca7b",
   "metadata": {},
   "outputs": [
    {
     "name": "stdout",
     "output_type": "stream",
     "text": [
      "Mean Squared Error (MSE) for Support Vector Machine Regressor: 12658.319569227755\n"
     ]
    }
   ],
   "source": [
    "import numpy as np\n",
    "from sklearn.metrics import mean_squared_error\n",
    "\n",
    "y_actual = np.array([148,35,161,209,246,127,142,120,139,240,417,76,50,70,48,421,249,91,0,51,84,\n",
    "                     364,224,294,71,52,93,134,281,29,42,46])\n",
    "\n",
    "y_predicted_rf = np.array([146.6749971,146.9907885,147.6863052,148.6680824,149.7922906,150.9142744,151.9183104,152.7183248,\n",
    "153.2461977,153.4512237,153.3176407,152.8848818,148.0266956,148.2832188,148.7588928,149.3870532,150.0724582,150.7241759,\n",
    "151.2757793,151.6857903,151.9276755,151.984543,151.8551126,151.5640991,148.8243605,148.9850568,149.2519652,149.5859706,\n",
    "149.9345725,150.2501943,150.5014284,150.6729615])\n",
    "\n",
    "mse_rf = mean_squared_error(y_actual, y_predicted_rf)\n",
    "\n",
    "print(\"Mean Squared Error (MSE) for Support Vector Machine Regressor:\", mse_rf)"
   ]
  }
 ],
 "metadata": {
  "kernelspec": {
   "display_name": "Python 3 (ipykernel)",
   "language": "python",
   "name": "python3"
  },
  "language_info": {
   "codemirror_mode": {
    "name": "ipython",
    "version": 3
   },
   "file_extension": ".py",
   "mimetype": "text/x-python",
   "name": "python",
   "nbconvert_exporter": "python",
   "pygments_lexer": "ipython3",
   "version": "3.11.5"
  }
 },
 "nbformat": 4,
 "nbformat_minor": 5
}
