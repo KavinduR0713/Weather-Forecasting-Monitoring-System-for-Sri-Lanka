{
 "cells": [
  {
   "cell_type": "code",
   "execution_count": 1,
   "id": "eef0aded",
   "metadata": {},
   "outputs": [
    {
     "name": "stdout",
     "output_type": "stream",
     "text": [
      "Mean Squared Error (MSE) for Random Forest Regressor: 25594.107173715714\n"
     ]
    }
   ],
   "source": [
    "import numpy as np\n",
    "from sklearn.metrics import mean_squared_error\n",
    "\n",
    "# Actual values (replace with your actual data)\n",
    "y_actual = np.array([236,\n",
    "35,\n",
    "226,\n",
    "341,\n",
    "365,\n",
    "249,\n",
    "205,\n",
    "82,\n",
    "185,\n",
    "230,\n",
    "429,\n",
    "146,\n",
    "58,\n",
    "40,\n",
    "124,\n",
    "304,\n",
    "494,\n",
    "166,\n",
    "15,\n",
    "114,\n",
    "42,\n",
    "705,\n",
    "122,\n",
    "339,\n",
    "44,\n",
    "70,\n",
    "139,\n",
    "33,\n",
    "313,\n",
    "152,\n",
    "99,\n",
    "108])\n",
    "\n",
    "# Predicted values from Random Forest Regressor (replace with your actual predicted values)\n",
    "y_predicted_rf = np.array([142.7397285,\n",
    "143.4370797,\n",
    "144.4533731,\n",
    "145.6288042,\n",
    "146.7841519,\n",
    "147.7834983,\n",
    "148.5634834,\n",
    "149.1178932,\n",
    "149.4573724,\n",
    "149.5781433,\n",
    "149.4614406,\n",
    "149.0989441,\n",
    "143.5547029,\n",
    "144.0590632,\n",
    "144.7737995,\n",
    "145.5857353,\n",
    "146.3676932,\n",
    "147.0227676,\n",
    "147.5070234,\n",
    "147.8213469,\n",
    "147.983899,\n",
    "148.0055397,\n",
    "147.8844646,\n",
    "147.61958,\n",
    "144.1164972,\n",
    "144.416567,\n",
    "144.836233,\n",
    "145.3085424,\n",
    "145.7577051,\n",
    "146.1254308,\n",
    "146.3854839,\n",
    "146.5402559])\n",
    "\n",
    "# Calculate Mean Squared Error (MSE)\n",
    "mse_rf = mean_squared_error(y_actual, y_predicted_rf)\n",
    "\n",
    "# Print the result\n",
    "print(\"Mean Squared Error (MSE) for Random Forest Regressor:\", mse_rf)"
   ]
  },
  {
   "cell_type": "code",
   "execution_count": null,
   "id": "a0d3cb09",
   "metadata": {},
   "outputs": [],
   "source": []
  }
 ],
 "metadata": {
  "kernelspec": {
   "display_name": "Python 3 (ipykernel)",
   "language": "python",
   "name": "python3"
  },
  "language_info": {
   "codemirror_mode": {
    "name": "ipython",
    "version": 3
   },
   "file_extension": ".py",
   "mimetype": "text/x-python",
   "name": "python",
   "nbconvert_exporter": "python",
   "pygments_lexer": "ipython3",
   "version": "3.11.5"
  }
 },
 "nbformat": 4,
 "nbformat_minor": 5
}
