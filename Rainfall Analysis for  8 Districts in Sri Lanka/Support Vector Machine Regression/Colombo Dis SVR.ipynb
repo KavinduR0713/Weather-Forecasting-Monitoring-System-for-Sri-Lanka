{
 "cells": [
  {
   "cell_type": "code",
   "execution_count": 1,
   "id": "667f1e6a",
   "metadata": {},
   "outputs": [
    {
     "name": "stderr",
     "output_type": "stream",
     "text": [
      "C:\\Users\\KavinduRathnasiri\\anaconda3\\Lib\\site-packages\\sklearn\\base.py:464: UserWarning: X does not have valid feature names, but StandardScaler was fitted with feature names\n",
      "  warnings.warn(\n"
     ]
    },
    {
     "name": "stdout",
     "output_type": "stream",
     "text": [
      "Predicted Rainfall for Future Years:\n",
      "    Year  Month  Predicted Rainfall\n",
      "0   2021      1          119.668510\n",
      "1   2021      2          119.925256\n",
      "2   2021      3          120.379368\n",
      "3   2021      4          120.960348\n",
      "4   2021      5          121.601479\n",
      "5   2021      6          122.263019\n",
      "6   2021      7          122.930382\n",
      "7   2021      8          123.590788\n",
      "8   2021      9          124.207755\n",
      "9   2021     10          124.714352\n",
      "10  2021     11          125.032355\n",
      "11  2021     12          125.106045\n",
      "12  2022      1          120.701808\n",
      "13  2022      2          120.892850\n",
      "14  2022      3          121.204753\n",
      "15  2022      4          121.587713\n",
      "16  2022      5          121.994381\n",
      "17  2022      6          122.396190\n",
      "18  2022      7          122.783975\n",
      "19  2022      8          123.154189\n",
      "20  2022      9          123.492129\n",
      "21  2022     10          123.765295\n",
      "22  2022     11          123.932308\n",
      "23  2022     12          123.961739\n",
      "24  2023      1          121.411436\n",
      "25  2023      2          121.528529\n",
      "26  2023      3          121.709950\n",
      "27  2023      4          121.925813\n",
      "28  2023      5          122.147582\n",
      "29  2023      6          122.357912\n",
      "30  2023      7          122.551926\n",
      "31  2023      8          122.730155\n",
      "32  2023      9          122.888967\n",
      "33  2023     10          123.015653\n",
      "34  2023     11          123.091620\n",
      "35  2023     12          123.101420\n"
     ]
    }
   ],
   "source": [
    "import pandas as pd\n",
    "from sklearn.model_selection import train_test_split\n",
    "from sklearn.preprocessing import StandardScaler\n",
    "from sklearn.svm import SVR\n",
    "import matplotlib.pyplot as plt\n",
    "\n",
    "data = pd.read_csv(\"colo.csv\")\n",
    "\n",
    "features = data[[\"Year\", \"Month\"]]\n",
    "target = data[\"Rainfall\"]\n",
    "\n",
    "X_train, X_test, y_train, y_test = train_test_split(features, target, test_size=0.2)\n",
    "\n",
    "scaler = StandardScaler()\n",
    "X_train_scaled = scaler.fit_transform(X_train)\n",
    "X_test_scaled = scaler.transform(X_test)\n",
    "\n",
    "model = SVR(kernel=\"rbf\", C=1.0)\n",
    "\n",
    "model.fit(X_train_scaled, y_train)\n",
    "\n",
    "future_years = [[2021, 1], [2021, 2], [2021, 3], [2021, 4], [2021, 5], [2021, 6], [2021, 7], [2021, 8], [2021, 9], [2021, 10], [2021, 11], [2021, 12],\n",
    "                [2022, 1], [2022, 2], [2022, 3], [2022, 4], [2022, 5], [2022, 6], [2022, 7], [2022, 8], [2022, 9], [2022, 10], [2022, 11], [2022, 12],\n",
    "                [2023, 1], [2023, 2], [2023, 3], [2023, 4], [2023, 5], [2023, 6], [2023, 7], [2023, 8], [2023, 9], [2023, 10], [2023, 11], [2023, 12]]\n",
    "\n",
    "future_features_scaled = scaler.transform(future_years)\n",
    "\n",
    "future_rainfall = model.predict(future_features_scaled)\n",
    "\n",
    "future_data = pd.DataFrame({\n",
    "    'Year': [year for year, month in future_years],\n",
    "    'Month': [month for year, month in future_years],\n",
    "    'Predicted Rainfall': future_rainfall\n",
    "})\n",
    "\n",
    "future_data.to_excel('future_rainfall_predictions_1.xlsx', index=False)\n",
    "\n",
    "print('Predicted Rainfall for Future Years:')\n",
    "print(future_data)"
   ]
  }
 ],
 "metadata": {
  "kernelspec": {
   "display_name": "Python 3 (ipykernel)",
   "language": "python",
   "name": "python3"
  },
  "language_info": {
   "codemirror_mode": {
    "name": "ipython",
    "version": 3
   },
   "file_extension": ".py",
   "mimetype": "text/x-python",
   "name": "python",
   "nbconvert_exporter": "python",
   "pygments_lexer": "ipython3",
   "version": "3.11.5"
  }
 },
 "nbformat": 4,
 "nbformat_minor": 5
}
