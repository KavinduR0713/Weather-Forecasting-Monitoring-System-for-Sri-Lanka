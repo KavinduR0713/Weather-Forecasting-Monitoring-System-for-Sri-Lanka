{
 "cells": [
  {
   "cell_type": "code",
   "execution_count": 1,
   "id": "d338df0f",
   "metadata": {},
   "outputs": [
    {
     "name": "stderr",
     "output_type": "stream",
     "text": [
      "C:\\Users\\KavinduRathnasiri\\anaconda3\\Lib\\site-packages\\sklearn\\base.py:464: UserWarning: X does not have valid feature names, but StandardScaler was fitted with feature names\n",
      "  warnings.warn(\n"
     ]
    },
    {
     "name": "stdout",
     "output_type": "stream",
     "text": [
      "Predicted Rainfall for Future Years:\n",
      "    Year  Month  Predicted Rainfall\n",
      "0   2021      1          131.321733\n",
      "1   2021      2          131.028412\n",
      "2   2021      3          130.828904\n",
      "3   2021      4          130.732504\n",
      "4   2021      5          130.781204\n",
      "5   2021      6          131.048399\n",
      "6   2021      7          131.599946\n",
      "7   2021      8          132.437711\n",
      "8   2021      9          133.464822\n",
      "9   2021     10          134.501795\n",
      "10  2021     11          135.349781\n",
      "11  2021     12          135.866356\n",
      "12  2022      1          132.230339\n",
      "13  2022      2          132.025749\n",
      "14  2022      3          131.887412\n",
      "15  2022      4          131.820071\n",
      "16  2022      5          131.846428\n",
      "17  2022      6          132.008639\n",
      "18  2022      7          132.346559\n",
      "19  2022      8          132.863637\n",
      "20  2022      9          133.504099\n",
      "21  2022     10          134.160335\n",
      "22  2022     11          134.709807\n",
      "23  2022     12          135.061426\n",
      "24  2023      1          133.039865\n",
      "25  2023      2          132.919271\n",
      "26  2023      3          132.835671\n",
      "27  2023      4          132.790499\n",
      "28  2023      5          132.794217\n",
      "29  2023      6          132.868490\n",
      "30  2023      7          133.035719\n",
      "31  2023      8          133.300887\n",
      "32  2023      9          133.638155\n",
      "33  2023     10          133.992932\n",
      "34  2023     11          134.300159\n",
      "35  2023     12          134.508871\n"
     ]
    }
   ],
   "source": [
    "import pandas as pd\n",
    "from sklearn.model_selection import train_test_split\n",
    "from sklearn.preprocessing import StandardScaler\n",
    "from sklearn.svm import SVR\n",
    "\n",
    "# For visualization\n",
    "import matplotlib.pyplot as plt\n",
    "\n",
    "# Load data\n",
    "data = pd.read_csv(\"Monaragala_1.csv\")\n",
    "\n",
    "# Separate features and target\n",
    "features = data[[\"Year\", \"Month\"]]\n",
    "target = data[\"Rainfall\"]\n",
    "\n",
    "# Split data for training and testing\n",
    "X_train, X_test, y_train, y_test = train_test_split(features, target, test_size=0.2)\n",
    "\n",
    "# Standardize features for better SVM performance\n",
    "scaler = StandardScaler()\n",
    "X_train_scaled = scaler.fit_transform(X_train)\n",
    "X_test_scaled = scaler.transform(X_test)\n",
    "\n",
    "# Instantiate SVM model\n",
    "model = SVR(kernel=\"rbf\", C=1.0)\n",
    "\n",
    "# Train the model\n",
    "model.fit(X_train_scaled, y_train)\n",
    "\n",
    "# Create future years data\n",
    "future_years = [[2021, 1], [2021, 2], [2021, 3], [2021, 4], [2021, 5], [2021, 6], [2021, 7], [2021, 8], [2021, 9], [2021, 10], [2021, 11], [2021, 12],\n",
    "                [2022, 1], [2022, 2], [2022, 3], [2022, 4], [2022, 5], [2022, 6], [2022, 7], [2022, 8], [2022, 9], [2022, 10], [2022, 11], [2022, 12],\n",
    "                [2023, 1], [2023, 2], [2023, 3], [2023, 4], [2023, 5], [2023, 6], [2023, 7], [2023, 8], [2023, 9], [2023, 10], [2023, 11], [2023, 12]]\n",
    "\n",
    "# Standardize future years data\n",
    "future_features_scaled = scaler.transform(future_years)\n",
    "\n",
    "# Make predictions for future data\n",
    "future_rainfall = model.predict(future_features_scaled)\n",
    "\n",
    "# Create a DataFrame with future years and predicted rainfall\n",
    "future_data = pd.DataFrame({\n",
    "    'Year': [year for year, month in future_years],\n",
    "    'Month': [month for year, month in future_years],\n",
    "    'Predicted Rainfall': future_rainfall\n",
    "})\n",
    "\n",
    "# Save the future_data to an Excel file\n",
    "future_data.to_excel('future_rainfall_predictions.xlsx', index=False)\n",
    "\n",
    "# Print the predicted rainfall for future years\n",
    "print('Predicted Rainfall for Future Years:')\n",
    "print(future_data)"
   ]
  },
  {
   "cell_type": "code",
   "execution_count": null,
   "id": "a8623363",
   "metadata": {},
   "outputs": [],
   "source": []
  }
 ],
 "metadata": {
  "kernelspec": {
   "display_name": "Python 3 (ipykernel)",
   "language": "python",
   "name": "python3"
  },
  "language_info": {
   "codemirror_mode": {
    "name": "ipython",
    "version": 3
   },
   "file_extension": ".py",
   "mimetype": "text/x-python",
   "name": "python",
   "nbconvert_exporter": "python",
   "pygments_lexer": "ipython3",
   "version": "3.11.5"
  }
 },
 "nbformat": 4,
 "nbformat_minor": 5
}
